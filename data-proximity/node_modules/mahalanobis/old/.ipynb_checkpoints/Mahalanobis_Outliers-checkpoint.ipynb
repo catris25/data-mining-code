{
 "cells": [
  {
   "cell_type": "markdown",
   "metadata": {},
   "source": [
    "Mahalanobis Distance and Outliers blog post at <a href=\"http://kldavenport.com\">http://kldavenport.com</a>\n"
   ]
  },
  {
   "cell_type": "markdown",
   "metadata": {},
   "source": [
    "## Calculating the Mahalanobis Distance and detecting outliers"
   ]
  },
  {
   "cell_type": "markdown",
   "metadata": {},
   "source": [
    "### 1. Generate two random 1-D arrays:"
   ]
  },
  {
   "cell_type": "code",
   "execution_count": 6,
   "metadata": {
    "collapsed": false
   },
   "outputs": [
    {
     "name": "stdout",
     "output_type": "stream",
     "text": [
      "(10,)\n",
      "(10,)\n",
      "[4 4 5 2 3 6 9 7 4 5]\n",
      "[3 7 5 7 9 5 6 2 2 7]\n"
     ]
    }
   ],
   "source": [
    "import numpy as np\n",
    "np.random.seed(59)\n",
    "# as column vectors\n",
    "x = np.random.poisson(5,10)\n",
    "y = np.random.poisson(5,10)\n",
    "\n",
    "# examine the shape of the numpy arrays\n",
    "print x.shape\n",
    "print y.shape\n",
    "print x\n",
    "print y"
   ]
  },
  {
   "cell_type": "markdown",
   "metadata": {},
   "source": [
    "### 2. Estimate a covariance matrix for (x,y):"
   ]
  },
  {
   "cell_type": "markdown",
   "metadata": {},
   "source": [
    "An examination of what numpy's cov expects: A 1-D or 2-D array containing multiple variables and observations. Each row of m represents a variable, and each column a single observation of all those variables. In the event we are dealing with column vectors instead of row vectors, the rowvar parameter can be set to 1."
   ]
  },
  {
   "cell_type": "markdown",
   "metadata": {},
   "source": [
    "Here we calculate the covariance matrix:"
   ]
  },
  {
   "cell_type": "code",
   "execution_count": 7,
   "metadata": {
    "collapsed": false
   },
   "outputs": [
    {
     "name": "stdout",
     "output_type": "stream",
     "text": [
      "[[ 4.1        -1.41111111]\n",
      " [-1.41111111  5.56666667]]\n",
      "[[ 0.26721584  0.06773735]\n",
      " [ 0.06773735  0.19681166]]\n",
      "(2, 2)\n"
     ]
    }
   ],
   "source": [
    "covariance_xy = np.cov(x,y, rowvar=0)\n",
    "print covariance_xy\n",
    "inv_covariance_xy = np.linalg.inv(covariance_xy)\n",
    "\n",
    "# Examine inverse covariance matrix and shape\n",
    "print inv_covariance_xy\n",
    "print inv_covariance_xy.shape"
   ]
  },
  {
   "cell_type": "markdown",
   "metadata": {},
   "source": [
    "### 3. Center each value by the mean:"
   ]
  },
  {
   "cell_type": "markdown",
   "metadata": {},
   "source": [
    "Center each value by the mean by subtracting the mean from i in array x and y."
   ]
  },
  {
   "cell_type": "code",
   "execution_count": 8,
   "metadata": {
    "collapsed": false
   },
   "outputs": [
    {
     "name": "stdout",
     "output_type": "stream",
     "text": [
      "(10,)\n"
     ]
    }
   ],
   "source": [
    "xy_mean = np.mean(x),np.mean(y)\n",
    "x_diff = np.array([x_i - xy_mean[0] for x_i in x])\n",
    "y_diff = np.array([y_i - xy_mean[1] for y_i in y])\n",
    "print x_diff.shape"
   ]
  },
  {
   "cell_type": "markdown",
   "metadata": {},
   "source": [
    "Join the x_diff and y_diff arrays into (10 x 2) array to be used in our formula later. Consider these coordinate pairs."
   ]
  },
  {
   "cell_type": "code",
   "execution_count": 9,
   "metadata": {
    "collapsed": false
   },
   "outputs": [
    {
     "data": {
      "text/plain": [
       "((10, 2), array([[-0.9, -2.3],\n",
       "        [-0.9,  1.7],\n",
       "        [ 0.1, -0.3],\n",
       "        [-2.9,  1.7],\n",
       "        [-1.9,  3.7],\n",
       "        [ 1.1, -0.3],\n",
       "        [ 4.1,  0.7],\n",
       "        [ 2.1, -3.3],\n",
       "        [-0.9, -3.3],\n",
       "        [ 0.1,  1.7]]))"
      ]
     },
     "execution_count": 9,
     "metadata": {},
     "output_type": "execute_result"
    }
   ],
   "source": [
    "diff_xy = np.transpose([x_diff, y_diff])\n",
    "diff_xy.shape, diff_xy"
   ]
  },
  {
   "cell_type": "markdown",
   "metadata": {},
   "source": [
    "### 4. Formula building"
   ]
  },
  {
   "cell_type": "markdown",
   "metadata": {},
   "source": [
    "As stated above: $ MD = \\sqrt{  (x - \\mu)^T {\\rm \\bf  \\Sigma}^{-1} (x - \\mu)}$, <br>So to put together this formula we'll need the square root of the transpose of our _diff_xy_ array, the inverse of our _covariance_xy_ matrix which we've assigned to _inv_covariance_xy_, and our original _diff_xy_ array. Examining their shapes below for one final check before performing dot multiplication (remember u•v = v•u and u•(v + w) = u•w + v•w):\n"
   ]
  },
  {
   "cell_type": "code",
   "execution_count": 10,
   "metadata": {
    "collapsed": false
   },
   "outputs": [
    {
     "name": "stdout",
     "output_type": "stream",
     "text": [
      "(2,)\n",
      "(2, 2)\n",
      "(10, 2)\n"
     ]
    }
   ],
   "source": [
    "print np.transpose(diff_xy[1]).shape\n",
    "print inv_covariance_xy.shape\n",
    "print diff_xy.shape\n"
   ]
  },
  {
   "cell_type": "code",
   "execution_count": 13,
   "metadata": {
    "collapsed": false
   },
   "outputs": [
    {
     "name": "stdout",
     "output_type": "stream",
     "text": [
      "[-0.39629015 -0.51363044]\n",
      "[-0.12534076  0.27361621]\n",
      "[ 0.00640038 -0.05226976]\n",
      "[-0.65977243  0.13814152]\n",
      "[-0.2570819   0.59950219]\n",
      "[ 0.27361621  0.01546758]\n",
      "[ 1.14300107  0.41549129]\n",
      "[ 0.33762001 -0.50723006]\n",
      "[-0.4640275 -0.7104421]\n",
      "[ 0.14187507  0.34135356]\n"
     ]
    },
    {
     "data": {
      "text/plain": [
       "[1.2401657717422185,\n",
       " 0.7602330229217158,\n",
       " 0.12775354072754605,\n",
       " 1.4656672995350604,\n",
       " 1.6451789341156158,\n",
       " 0.54436895644805117,\n",
       " 2.2309523247827063,\n",
       " 1.5436519059004266,\n",
       " 1.6619517679622451,\n",
       " 0.77103084392595644]"
      ]
     },
     "execution_count": 13,
     "metadata": {},
     "output_type": "execute_result"
    }
   ],
   "source": [
    "md = []\n",
    "for i in range(len(diff_xy)):\n",
    "    transposed = np.transpose(diff_xy[i]);\n",
    "    print inv_covariance_xy\n",
    "    firstDot = np.dot(transposed,inv_covariance_xy)\n",
    "    print firstDot\n",
    "    secondDot = np.dot(firstDot,diff_xy[i])\n",
    "    md.append(np.sqrt(secondDot))\n",
    "md"
   ]
  },
  {
   "cell_type": "markdown",
   "metadata": {},
   "source": [
    "## We can wrap all this sequential code up into one function as follows:"
   ]
  },
  {
   "cell_type": "code",
   "execution_count": 103,
   "metadata": {
    "collapsed": false
   },
   "outputs": [],
   "source": [
    "def MahalanobisDist(x, y):\n",
    "    covariance_xy = np.cov(x,y, rowvar=0)\n",
    "    inv_covariance_xy = np.linalg.inv(covariance_xy)\n",
    "    xy_mean = np.mean(x),np.mean(y)\n",
    "    x_diff = np.array([x_i - xy_mean[0] for x_i in x])\n",
    "    y_diff = np.array([y_i - xy_mean[1] for y_i in y])\n",
    "    diff_xy = np.transpose([x_diff, y_diff])\n",
    "    \n",
    "    md = []\n",
    "    for i in range(len(diff_xy)):\n",
    "        md.append(np.sqrt(np.dot(np.dot(np.transpose(diff_xy[i]),inv_covariance_xy),diff_xy[i])))\n",
    "    return md"
   ]
  },
  {
   "cell_type": "code",
   "execution_count": 104,
   "metadata": {
    "collapsed": false
   },
   "outputs": [
    {
     "data": {
      "text/plain": [
       "[1.2401657717422185,\n",
       " 0.76023302292171568,\n",
       " 0.12775354072754608,\n",
       " 1.4656672995350604,\n",
       " 1.6451789341156158,\n",
       " 0.54436895644805128,\n",
       " 2.2309523247827063,\n",
       " 1.5436519059004268,\n",
       " 1.6619517679622449,\n",
       " 0.77103084392595633]"
      ]
     },
     "execution_count": 104,
     "metadata": {},
     "output_type": "execute_result"
    }
   ],
   "source": [
    "MahalanobisDist(x,y)"
   ]
  },
  {
   "cell_type": "code",
   "execution_count": 105,
   "metadata": {
    "collapsed": false
   },
   "outputs": [],
   "source": [
    "def MD_removeOutliers(x, y):\n",
    "    MD = MahalanobisDist(x, y)\n",
    "    threshold = np.mean(MD) * 1.5 # adjust 1.5 accordingly \n",
    "    nx, ny, outliers = [], [], []\n",
    "    for i in range(len(MD)):\n",
    "        if MD[i] <= threshold:\n",
    "            nx.append(x[i])\n",
    "            ny.append(y[i])\n",
    "        else:\n",
    "            outliers.append(i) # position of removed pair\n",
    "    return (np.array(nx), np.array(ny), np.array(outliers))"
   ]
  },
  {
   "cell_type": "code",
   "execution_count": 106,
   "metadata": {
    "collapsed": false
   },
   "outputs": [
    {
     "name": "stdout",
     "output_type": "stream",
     "text": [
      "x: [4 4 5 2 3 6 9 7 4 5]\n",
      "y: [3 7 5 7 9 5 6 2 2 7]\n"
     ]
    },
    {
     "data": {
      "text/plain": [
       "(array([4, 4, 5, 2, 3, 6, 7, 4, 5]),\n",
       " array([3, 7, 5, 7, 9, 5, 2, 2, 7]),\n",
       " array([6]))"
      ]
     },
     "execution_count": 106,
     "metadata": {},
     "output_type": "execute_result"
    }
   ],
   "source": [
    "print 'x:', x\n",
    "print 'y:', y\n",
    "MD_removeOutliers(x,y)"
   ]
  },
  {
   "cell_type": "markdown",
   "metadata": {},
   "source": [
    "The pair in position 6 is removed which is *(9,6)* where *MD = 2.230* Graphing them below:"
   ]
  },
  {
   "cell_type": "markdown",
   "metadata": {},
   "source": [
    "### Plotting in R's ggplot2"
   ]
  },
  {
   "cell_type": "markdown",
   "metadata": {},
   "source": [
    "Here we create a dataframe that both the R and Python versions of ggplot will utilize:"
   ]
  },
  {
   "cell_type": "code",
   "execution_count": 118,
   "metadata": {
    "collapsed": false
   },
   "outputs": [
    {
     "data": {
      "text/html": [
       "<div style=\"max-height:1000px;max-width:1500px;overflow:auto;\">\n",
       "<table border=\"1\" class=\"dataframe\">\n",
       "  <thead>\n",
       "    <tr style=\"text-align: right;\">\n",
       "      <th></th>\n",
       "      <th>X</th>\n",
       "      <th>Y</th>\n",
       "    </tr>\n",
       "  </thead>\n",
       "  <tbody>\n",
       "    <tr>\n",
       "      <th>0</th>\n",
       "      <td>-0.9</td>\n",
       "      <td>-2.3</td>\n",
       "    </tr>\n",
       "    <tr>\n",
       "      <th>1</th>\n",
       "      <td>-0.9</td>\n",
       "      <td> 1.7</td>\n",
       "    </tr>\n",
       "    <tr>\n",
       "      <th>2</th>\n",
       "      <td> 0.1</td>\n",
       "      <td>-0.3</td>\n",
       "    </tr>\n",
       "    <tr>\n",
       "      <th>3</th>\n",
       "      <td>-2.9</td>\n",
       "      <td> 1.7</td>\n",
       "    </tr>\n",
       "    <tr>\n",
       "      <th>4</th>\n",
       "      <td>-1.9</td>\n",
       "      <td> 3.7</td>\n",
       "    </tr>\n",
       "    <tr>\n",
       "      <th>5</th>\n",
       "      <td> 1.1</td>\n",
       "      <td>-0.3</td>\n",
       "    </tr>\n",
       "    <tr>\n",
       "      <th>6</th>\n",
       "      <td> 4.1</td>\n",
       "      <td> 0.7</td>\n",
       "    </tr>\n",
       "    <tr>\n",
       "      <th>7</th>\n",
       "      <td> 2.1</td>\n",
       "      <td>-3.3</td>\n",
       "    </tr>\n",
       "    <tr>\n",
       "      <th>8</th>\n",
       "      <td>-0.9</td>\n",
       "      <td>-3.3</td>\n",
       "    </tr>\n",
       "    <tr>\n",
       "      <th>9</th>\n",
       "      <td> 0.1</td>\n",
       "      <td> 1.7</td>\n",
       "    </tr>\n",
       "  </tbody>\n",
       "</table>\n",
       "</div>"
      ],
      "text/plain": [
       "     X    Y\n",
       "0 -0.9 -2.3\n",
       "1 -0.9  1.7\n",
       "2  0.1 -0.3\n",
       "3 -2.9  1.7\n",
       "4 -1.9  3.7\n",
       "5  1.1 -0.3\n",
       "6  4.1  0.7\n",
       "7  2.1 -3.3\n",
       "8 -0.9 -3.3\n",
       "9  0.1  1.7"
      ]
     },
     "execution_count": 118,
     "metadata": {},
     "output_type": "execute_result"
    }
   ],
   "source": [
    "import pandas as pd\n",
    "\n",
    "DF_diff_xy = pd.DataFrame(diff_xy)\n",
    "DF_diff_xy.rename(columns = lambda x: str(x), inplace=True)\n",
    "DF_diff_xy.rename(columns={\"0\": \"X\"}, inplace=True) # rename a dfcolumn   \n",
    "DF_diff_xy.rename(columns={\"1\": \"Y\"}, inplace=True) # rename a dfcolumn \n",
    "DF_diff_xy"
   ]
  },
  {
   "cell_type": "code",
   "execution_count": 119,
   "metadata": {
    "collapsed": false
   },
   "outputs": [],
   "source": [
    "#%load_ext rmagic\n",
    "%reload_ext rmagic"
   ]
  },
  {
   "cell_type": "code",
   "execution_count": 120,
   "metadata": {
    "collapsed": false
   },
   "outputs": [
    {
     "data": {
      "image/png": "[encoded data removed]"
     },
     "metadata": {},
     "output_type": "display_data"
    }
   ],
   "source": [
    "%%R -i DF_diff_xy # list object to be transferred to python here\n",
    "install.packages(\"ggplot2\") # Had to add this for some reason, shouldn't be necessary\n",
    "library(ggplot2)\n",
    "df = data.frame(DF_diff_xy)\n",
    "plot = ggplot(df, aes(x = X, y = Y)) + \n",
    "geom_point(alpha = .8, color = 'dodgerblue',size = 5) +\n",
    "geom_point(data=subset(df, Y >= 0.7 & X >= 4.1), color = 'red',size = 6) +\n",
    "theme(axis.text.x = element_text(size= rel(1.5),angle=90, hjust=1)) +\n",
    "ggtitle('Distance Pairs with outliers highlighted in red')\n",
    "print(plot)\n"
   ]
  },
  {
   "cell_type": "markdown",
   "metadata": {},
   "source": [
    "### Plotting in the python ggplot port from yhat "
   ]
  },
  {
   "cell_type": "markdown",
   "metadata": {},
   "source": [
    "**2013/12/13 Update**\n",
    "I can now specify a dataframe per geom, thanks <a href src=\"https://twitter.com/janschulz\">JanSchulz</a> :)<br>\n",
    "https://github.com/yhat/ggplot/issues/116#issuecomment-29842170\n",
    "________________\n",
    "<del>My attempt to plot a subset of the points in the yhat port of ggplot was not succesful. View the discussion here: https://github.com/yhat/ggplot/issues/116</del>"
   ]
  },
  {
   "cell_type": "code",
   "execution_count": 122,
   "metadata": {
    "collapsed": false
   },
   "outputs": [
    {
     "data": {
      "image/png": "[encoded data removed]",
      "text/plain": [
       "<matplotlib.figure.Figure at 0x10c748350>"
      ]
     },
     "metadata": {},
     "output_type": "display_data"
    },
    {
     "data": {
      "text/plain": [
       "<ggplot: (274861849)>"
      ]
     },
     "execution_count": 122,
     "metadata": {},
     "output_type": "execute_result"
    }
   ],
   "source": [
    "ggplot(DF_diff_xy, aes(x = 'X', y ='Y')) + \\\n",
    "    geom_point(alpha=1, size=100, color='dodgerblue') + \\\n",
    "    geom_point(data = DF_diff_xy[(DF_diff_xy.Y >= 0.7) & (DF_diff_xy.X >= 4.1)],alpha=1, size = 100, color='red')  "
   ]
  }
 ],
 "metadata": {
  "kernelspec": {
   "display_name": "Python 2",
   "language": "python",
   "name": "python2"
  },
  "language_info": {
   "codemirror_mode": {
    "name": "ipython",
    "version": 2
   },
   "file_extension": ".py",
   "mimetype": "text/x-python",
   "name": "python",
   "nbconvert_exporter": "python",
   "pygments_lexer": "ipython2",
   "version": "2.7.10"
  }
 },
 "nbformat": 4,
 "nbformat_minor": 0
}
